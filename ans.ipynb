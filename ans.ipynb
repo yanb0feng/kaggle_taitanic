{
 "cells": [
  {
   "attachments": {},
   "cell_type": "markdown",
   "metadata": {},
   "source": [
    "# 读取数据"
   ]
  },
  {
   "cell_type": "code",
   "execution_count": 146,
   "metadata": {},
   "outputs": [],
   "source": [
    "import pandas as pd\n",
    "from sklearn import datasets\n",
    "from sklearn.tree import DecisionTreeClassifier\n",
    "from sklearn.ensemble import AdaBoostClassifier\n",
    "from sklearn.model_selection import train_test_split\n",
    "import numpy as np\n",
    "from sklearn.metrics import zero_one_loss\n",
    "import matplotlib.pyplot as plt\n",
    "import seaborn as sns\n",
    "from sklearn.datasets import make_gaussian_quantiles\n",
    "from sklearn.metrics import roc_auc_score\n",
    "from sklearn.ensemble import RandomForestClassifier\n",
    "from sklearn.preprocessing import LabelEncoder\n",
    "from sklearn.preprocessing import OneHotEncoder\n",
    "\n",
    "#OneHotEncoder().fit_transform(iris.target.reshape((-1,1)))\n",
    "train=pd.read_csv(\"train.csv\")\n",
    "test=pd.read_csv(\"test.csv\")\n",
    "\n",
    "strain=train\n",
    "stest=test"
   ]
  },
  {
   "attachments": {},
   "cell_type": "markdown",
   "metadata": {},
   "source": [
    "# 删除前两列"
   ]
  },
  {
   "cell_type": "code",
   "execution_count": 147,
   "metadata": {},
   "outputs": [
    {
     "name": "stdout",
     "output_type": "stream",
     "text": [
      "418\n",
      "Index(['Survived', 'Pclass', 'Name', 'Sex', 'Age', 'SibSp', 'Parch', 'Ticket',\n",
      "       'Fare', 'Cabin', 'Embarked'],\n",
      "      dtype='object')\n",
      "Index(['Unnamed: 0.1', 'Pclass', 'Name', 'Sex', 'Age', 'SibSp', 'Parch',\n",
      "       'Ticket', 'Fare', 'Cabin', 'Embarked'],\n",
      "      dtype='object')\n",
      "418\n",
      "Unnamed: 0.1                                   1\n",
      "Pclass                                         3\n",
      "Name            Wilkes, Mrs. James (Ellen Needs)\n",
      "Sex                                       female\n",
      "Age                                         47.0\n",
      "SibSp                                          1\n",
      "Parch                                          0\n",
      "Ticket                                    363272\n",
      "Fare                                         7.0\n",
      "Cabin                                        NaN\n",
      "Embarked                                       S\n",
      "Name: 1, dtype: object\n"
     ]
    }
   ],
   "source": [
    "print(test.shape[0])\n",
    "train=strain.drop(['Unnamed: 0','PassengerId'],axis=1)\n",
    "test=stest.drop(['Unnamed: 0','PassengerId'],axis=1)\n",
    "print(train.columns)\n",
    "print(test.columns)\n",
    "print(test.shape[0])\n",
    "print(test.iloc[1,])"
   ]
  },
  {
   "attachments": {},
   "cell_type": "markdown",
   "metadata": {},
   "source": [
    "\n",
    "# Names 转化"
   ]
  },
  {
   "cell_type": "code",
   "execution_count": 148,
   "metadata": {},
   "outputs": [
    {
     "name": "stdout",
     "output_type": "stream",
     "text": [
      "418\n"
     ]
    }
   ],
   "source": [
    "def changename(x):\n",
    "    y=x['Name'].split(' ')[1]\n",
    "    y=y[0:len(y)-1]\n",
    "    if y in ['Don', 'Major', 'Capt', 'Jonkheer', 'Rev', 'Col','Mr']: return 1#MR is 1\n",
    "    if y in ['Countess', 'Mme','Mrs']:\n",
    "        return 2# MRS is 2\n",
    "    if y in ['Mlle', 'Ms','Miss']:\n",
    "        return 3#MISS is 3\n",
    "    if y =='Dr':\n",
    "        if x['Sex']=='Male':\n",
    "            return 1\n",
    "        else:\n",
    "            return 2\n",
    "    return 4\n",
    "train['Name']=train.apply(changename,axis=1)\n",
    "test['Name']=test.apply(changename,axis=1)\n",
    "print(test.shape[0])"
   ]
  },
  {
   "cell_type": "code",
   "execution_count": 149,
   "metadata": {},
   "outputs": [],
   "source": [
    "train=train.drop('Sex',axis=1)\n",
    "test=test.drop('Sex',axis=1)"
   ]
  },
  {
   "cell_type": "code",
   "execution_count": 150,
   "metadata": {},
   "outputs": [
    {
     "name": "stdout",
     "output_type": "stream",
     "text": [
      "Survived           1\n",
      "Pclass             1\n",
      "Name               2\n",
      "Age             38.0\n",
      "SibSp              1\n",
      "Parch              0\n",
      "Ticket      PC 17599\n",
      "Fare         71.2833\n",
      "Cabin            C85\n",
      "Embarked           C\n",
      "Name: 1, dtype: object\n"
     ]
    }
   ],
   "source": [
    "print(train.iloc[1,:])"
   ]
  },
  {
   "attachments": {},
   "cell_type": "markdown",
   "metadata": {},
   "source": [
    "# ticket取最后一位，cabin不要"
   ]
  },
  {
   "cell_type": "code",
   "execution_count": 151,
   "metadata": {},
   "outputs": [],
   "source": [
    "def lastticket(x):\n",
    "    y=x['Ticket']\n",
    "    try:\n",
    "        return int(y[len(y)-1])\n",
    "    except:\n",
    "        return 10\n",
    "train['Ticket']=train.apply(lastticket, axis=1)\n",
    "test['Ticket']=test.apply(lastticket, axis=1)"
   ]
  },
  {
   "cell_type": "code",
   "execution_count": 152,
   "metadata": {},
   "outputs": [
    {
     "name": "stdout",
     "output_type": "stream",
     "text": [
      "418\n"
     ]
    }
   ],
   "source": [
    "train=train.drop('Cabin',axis=1)\n",
    "test=test.drop('Cabin',axis=1)\n",
    "print(test.shape[0])"
   ]
  },
  {
   "attachments": {},
   "cell_type": "markdown",
   "metadata": {},
   "source": [
    "# 去掉名字，给性别和enbark编号"
   ]
  },
  {
   "cell_type": "code",
   "execution_count": 153,
   "metadata": {},
   "outputs": [
    {
     "name": "stdout",
     "output_type": "stream",
     "text": [
      "418\n"
     ]
    }
   ],
   "source": [
    "def enbark_code(x):\n",
    "    if x['Embarked']=='S': return 0\n",
    "    if x['Embarked']=='Q': return 1\n",
    "    if x['Embarked']=='C': return 2\n",
    "\n",
    "train['Embarked']=train.apply(enbark_code,axis=1)\n",
    "\n",
    "test['Embarked']=test.apply(enbark_code,axis=1)\n",
    "print(test.shape[0])\n"
   ]
  },
  {
   "attachments": {},
   "cell_type": "markdown",
   "metadata": {},
   "source": [
    "# 修改nan"
   ]
  },
  {
   "cell_type": "code",
   "execution_count": 154,
   "metadata": {},
   "outputs": [
    {
     "name": "stdout",
     "output_type": "stream",
     "text": [
      "   Unnamed: 0.1  Pclass  Name   Age  SibSp  Parch  Ticket     Fare  Embarked\n",
      "0             0       3     1  34.5      0      0       1   7.8292         1\n",
      "1             1       3     2  47.0      1      0       2   7.0000         0\n",
      "2             2       2     1  62.0      0      0       6   9.6875         1\n",
      "3             3       3     1  27.0      0      0       4   8.6625         0\n",
      "4             4       3     2  22.0      1      1       8  12.2875         0\n"
     ]
    }
   ],
   "source": [
    "def fillem(a):\n",
    "    for index,i in a.iterrows():\n",
    "        if np.isnan(i['Embarked']):\n",
    "            a['Embarked']=0\n",
    "    return a\n",
    "print(test.head(5))"
   ]
  },
  {
   "cell_type": "code",
   "execution_count": 155,
   "metadata": {},
   "outputs": [
    {
     "name": "stdout",
     "output_type": "stream",
     "text": [
      "418\n"
     ]
    }
   ],
   "source": [
    "\n",
    "train.dropna(axis=0,inplace=True)\n",
    "\n",
    "test['Embarked']=test.groupby(['Name','Embarked','Pclass'])['Embarked'].transform(lambda x: x.fillna(0))\n",
    "test['Fare']=test.groupby(['Name','Embarked','Pclass'])['Fare'].transform(lambda x: x.fillna(x.mean()))\n",
    "test['Age']=test.groupby(['Name','Embarked','Pclass'])['Age'].transform(lambda x: x.fillna(x.mean()))\n",
    "\n",
    "#a.loc[(a['Name']==i['Name'])& (a['Embarked']==i['Embarked']),'Fair'].mean()\n",
    "print(test.shape[0])\n",
    "##############################################\n",
    "#df['Age'] = df.groupby(['Sex', 'Pclass'])['Age'].transform(lambda x: x.fillna(x.median()))\n",
    "\n"
   ]
  },
  {
   "cell_type": "code",
   "execution_count": 156,
   "metadata": {},
   "outputs": [
    {
     "name": "stdout",
     "output_type": "stream",
     "text": [
      "418\n"
     ]
    }
   ],
   "source": [
    "test.dropna(axis=0,inplace=True)\n",
    "print(test.shape[0])"
   ]
  },
  {
   "attachments": {},
   "cell_type": "markdown",
   "metadata": {},
   "source": [
    "# check train"
   ]
  },
  {
   "cell_type": "code",
   "execution_count": 157,
   "metadata": {},
   "outputs": [
    {
     "data": {
      "text/html": [
       "<div>\n",
       "<style scoped>\n",
       "    .dataframe tbody tr th:only-of-type {\n",
       "        vertical-align: middle;\n",
       "    }\n",
       "\n",
       "    .dataframe tbody tr th {\n",
       "        vertical-align: top;\n",
       "    }\n",
       "\n",
       "    .dataframe thead th {\n",
       "        text-align: right;\n",
       "    }\n",
       "</style>\n",
       "<table border=\"1\" class=\"dataframe\">\n",
       "  <thead>\n",
       "    <tr style=\"text-align: right;\">\n",
       "      <th></th>\n",
       "      <th>Pclass</th>\n",
       "      <th>Name</th>\n",
       "      <th>Age</th>\n",
       "      <th>SibSp</th>\n",
       "      <th>Parch</th>\n",
       "      <th>Ticket</th>\n",
       "      <th>Fare</th>\n",
       "      <th>Embarked</th>\n",
       "    </tr>\n",
       "  </thead>\n",
       "  <tbody>\n",
       "    <tr>\n",
       "      <th>0</th>\n",
       "      <td>3</td>\n",
       "      <td>1</td>\n",
       "      <td>34.5</td>\n",
       "      <td>0</td>\n",
       "      <td>0</td>\n",
       "      <td>1</td>\n",
       "      <td>7.8292</td>\n",
       "      <td>1</td>\n",
       "    </tr>\n",
       "    <tr>\n",
       "      <th>1</th>\n",
       "      <td>3</td>\n",
       "      <td>2</td>\n",
       "      <td>47.0</td>\n",
       "      <td>1</td>\n",
       "      <td>0</td>\n",
       "      <td>2</td>\n",
       "      <td>7.0000</td>\n",
       "      <td>0</td>\n",
       "    </tr>\n",
       "    <tr>\n",
       "      <th>2</th>\n",
       "      <td>2</td>\n",
       "      <td>1</td>\n",
       "      <td>62.0</td>\n",
       "      <td>0</td>\n",
       "      <td>0</td>\n",
       "      <td>6</td>\n",
       "      <td>9.6875</td>\n",
       "      <td>1</td>\n",
       "    </tr>\n",
       "    <tr>\n",
       "      <th>3</th>\n",
       "      <td>3</td>\n",
       "      <td>1</td>\n",
       "      <td>27.0</td>\n",
       "      <td>0</td>\n",
       "      <td>0</td>\n",
       "      <td>4</td>\n",
       "      <td>8.6625</td>\n",
       "      <td>0</td>\n",
       "    </tr>\n",
       "    <tr>\n",
       "      <th>4</th>\n",
       "      <td>3</td>\n",
       "      <td>2</td>\n",
       "      <td>22.0</td>\n",
       "      <td>1</td>\n",
       "      <td>1</td>\n",
       "      <td>8</td>\n",
       "      <td>12.2875</td>\n",
       "      <td>0</td>\n",
       "    </tr>\n",
       "  </tbody>\n",
       "</table>\n",
       "</div>"
      ],
      "text/plain": [
       "   Pclass  Name   Age  SibSp  Parch  Ticket     Fare  Embarked\n",
       "0       3     1  34.5      0      0       1   7.8292         1\n",
       "1       3     2  47.0      1      0       2   7.0000         0\n",
       "2       2     1  62.0      0      0       6   9.6875         1\n",
       "3       3     1  27.0      0      0       4   8.6625         0\n",
       "4       3     2  22.0      1      1       8  12.2875         0"
      ]
     },
     "execution_count": 157,
     "metadata": {},
     "output_type": "execute_result"
    }
   ],
   "source": [
    "test.drop('Unnamed: 0.1',axis=1,inplace=True)\n",
    "test.head(5)"
   ]
  },
  {
   "attachments": {},
   "cell_type": "markdown",
   "metadata": {},
   "source": [
    "# 划分train test"
   ]
  },
  {
   "cell_type": "code",
   "execution_count": 158,
   "metadata": {},
   "outputs": [
    {
     "name": "stdout",
     "output_type": "stream",
     "text": [
      "169    0\n",
      "725    0\n",
      "491    0\n",
      "246    0\n",
      "664    1\n",
      "      ..\n",
      "875    1\n",
      "27     0\n",
      "479    1\n",
      "525    0\n",
      "679    1\n",
      "Name: Survived, Length: 534, dtype: int64\n"
     ]
    }
   ],
   "source": [
    "tr=train['Survived']\n",
    "te=train.drop('Survived',axis=1)\n",
    "x_train,x_test,y_train,y_test=train_test_split(te,tr,test_size=0.25)\n",
    "\n",
    "print(y_train)"
   ]
  },
  {
   "attachments": {},
   "cell_type": "markdown",
   "metadata": {},
   "source": [
    "# LOGIC 随机森林，adaboost"
   ]
  },
  {
   "cell_type": "code",
   "execution_count": 159,
   "metadata": {},
   "outputs": [],
   "source": [
    "def acc0(a,b):\n",
    "    num=0\n",
    "    rig=0\n",
    "    for i,j in zip(a,b):\n",
    "        if i==0:\n",
    "            num+=1\n",
    "            if j==i:rig+=1\n",
    "    return rig/num\n",
    "def acc1(a,b):\n",
    "    num=0\n",
    "    rig=0\n",
    "    for i,j in zip(a,b):\n",
    "        if i==1:\n",
    "            num+=1\n",
    "            if j==i:rig+=1\n",
    "    return rig/num"
   ]
  },
  {
   "cell_type": "code",
   "execution_count": 160,
   "metadata": {},
   "outputs": [
    {
     "name": "stdout",
     "output_type": "stream",
     "text": [
      "0.751937984496124  0.8367346938775511\n",
      "0.7734375  0.88\n",
      "0.775  0.7931034482758621\n",
      "0.7807017543859649  0.75\n"
     ]
    }
   ],
   "source": [
    "from sklearn.linear_model import LogisticRegression\n",
    "mod1=LogisticRegression(max_iter=1000,multi_class=\"ovr\")\n",
    "mod2=RandomForestClassifier(n_estimators=80,max_depth=5)\n",
    "mod3=DecisionTreeClassifier(max_depth=10,min_samples_split=10)\n",
    "mod4=AdaBoostClassifier(base_estimator=mod3,n_estimators=300,algorithm='SAMME',)\n",
    "\n",
    "mod1.fit(x_train,y_train)\n",
    "mod2.fit(x_train,y_train)\n",
    "mod3.fit(x_train,y_train)\n",
    "mod4.fit(x_train,y_train)\n",
    "\n",
    "t1=mod1.predict(x_test)\n",
    "for i in range(len(t1)):\n",
    "    if t1[i]>0.5: t1[i]=1\n",
    "    else: t1[i]=0\n",
    "t2=mod2.predict(x_test)\n",
    "t3=mod3.predict(x_test)\n",
    "t4=mod4.predict(x_test)\n",
    "\n",
    "print(acc0(t1,y_test),acc1(t1,y_test),sep='  ')\n",
    "print(acc0(t2,y_test),acc1(t2,y_test),sep='  ')\n",
    "print(acc0(t3,y_test),acc1(t3,y_test),sep='  ')\n",
    "print(acc0(t4,y_test),acc1(t4,y_test),sep='  ')\n",
    "\n"
   ]
  },
  {
   "cell_type": "code",
   "execution_count": 162,
   "metadata": {},
   "outputs": [
    {
     "name": "stdout",
     "output_type": "stream",
     "text": [
      "-0.175561797752809\n"
     ]
    }
   ],
   "source": [
    "from sklearn.model_selection import GridSearchCV\n",
    "grid1=GridSearchCV(estimator=mod2,\n",
    "                   param_grid={'n_estimators':range(50,101,10),\n",
    "                    'max_depth':range(4,12,1),\n",
    "                    'max_features': [2, 4, 6, 8],\n",
    "                    'min_samples_leaf':range(8,27,2)},\n",
    "                   cv=4, scoring='neg_mean_squared_error')\n",
    "\n",
    "'''grid1=GridSearchCV(estimator=mod2,\n",
    "                   param_grid={'n_estimators':range(50,101,10),\n",
    "                               'max_depth':range(4,12,1),\n",
    "                               'max_features': [2, 4, 6, 8],\n",
    "                               'min_samples_leaf':range(8,27,2)},\n",
    "                   cv=4, scoring='neg_mean_squared_error')'''\n",
    "\n",
    "grid1.fit(te,tr)\n",
    "print(grid1.best_score_)"
   ]
  },
  {
   "cell_type": "code",
   "execution_count": 163,
   "metadata": {},
   "outputs": [
    {
     "name": "stdout",
     "output_type": "stream",
     "text": [
      "{'max_depth': 11, 'max_features': 8, 'min_samples_leaf': 10, 'n_estimators': 70}\n"
     ]
    }
   ],
   "source": [
    "print(grid1.best_params_)"
   ]
  },
  {
   "cell_type": "code",
   "execution_count": 164,
   "metadata": {},
   "outputs": [],
   "source": [
    "\n",
    "ytest=grid1.predict(test)\n",
    "\n",
    "\n",
    "passger=[]\n",
    "survived=[]\n",
    "for i in range(len(ytest)):\n",
    "    passger.append(892+i)\n",
    "    survived.append(ytest[i])\n",
    "per=pd.DataFrame(columns=['PassengerId','Survived'])\n",
    "per['PassengerId']=passger\n",
    "per['Survived']=survived\n",
    "per.to_csv(\"submit.csv\")"
   ]
  },
  {
   "cell_type": "code",
   "execution_count": 168,
   "metadata": {},
   "outputs": [
    {
     "data": {
      "text/html": [
       "<style>#sk-container-id-1 {color: black;background-color: white;}#sk-container-id-1 pre{padding: 0;}#sk-container-id-1 div.sk-toggleable {background-color: white;}#sk-container-id-1 label.sk-toggleable__label {cursor: pointer;display: block;width: 100%;margin-bottom: 0;padding: 0.3em;box-sizing: border-box;text-align: center;}#sk-container-id-1 label.sk-toggleable__label-arrow:before {content: \"▸\";float: left;margin-right: 0.25em;color: #696969;}#sk-container-id-1 label.sk-toggleable__label-arrow:hover:before {color: black;}#sk-container-id-1 div.sk-estimator:hover label.sk-toggleable__label-arrow:before {color: black;}#sk-container-id-1 div.sk-toggleable__content {max-height: 0;max-width: 0;overflow: hidden;text-align: left;background-color: #f0f8ff;}#sk-container-id-1 div.sk-toggleable__content pre {margin: 0.2em;color: black;border-radius: 0.25em;background-color: #f0f8ff;}#sk-container-id-1 input.sk-toggleable__control:checked~div.sk-toggleable__content {max-height: 200px;max-width: 100%;overflow: auto;}#sk-container-id-1 input.sk-toggleable__control:checked~label.sk-toggleable__label-arrow:before {content: \"▾\";}#sk-container-id-1 div.sk-estimator input.sk-toggleable__control:checked~label.sk-toggleable__label {background-color: #d4ebff;}#sk-container-id-1 div.sk-label input.sk-toggleable__control:checked~label.sk-toggleable__label {background-color: #d4ebff;}#sk-container-id-1 input.sk-hidden--visually {border: 0;clip: rect(1px 1px 1px 1px);clip: rect(1px, 1px, 1px, 1px);height: 1px;margin: -1px;overflow: hidden;padding: 0;position: absolute;width: 1px;}#sk-container-id-1 div.sk-estimator {font-family: monospace;background-color: #f0f8ff;border: 1px dotted black;border-radius: 0.25em;box-sizing: border-box;margin-bottom: 0.5em;}#sk-container-id-1 div.sk-estimator:hover {background-color: #d4ebff;}#sk-container-id-1 div.sk-parallel-item::after {content: \"\";width: 100%;border-bottom: 1px solid gray;flex-grow: 1;}#sk-container-id-1 div.sk-label:hover label.sk-toggleable__label {background-color: #d4ebff;}#sk-container-id-1 div.sk-serial::before {content: \"\";position: absolute;border-left: 1px solid gray;box-sizing: border-box;top: 0;bottom: 0;left: 50%;z-index: 0;}#sk-container-id-1 div.sk-serial {display: flex;flex-direction: column;align-items: center;background-color: white;padding-right: 0.2em;padding-left: 0.2em;position: relative;}#sk-container-id-1 div.sk-item {position: relative;z-index: 1;}#sk-container-id-1 div.sk-parallel {display: flex;align-items: stretch;justify-content: center;background-color: white;position: relative;}#sk-container-id-1 div.sk-item::before, #sk-container-id-1 div.sk-parallel-item::before {content: \"\";position: absolute;border-left: 1px solid gray;box-sizing: border-box;top: 0;bottom: 0;left: 50%;z-index: -1;}#sk-container-id-1 div.sk-parallel-item {display: flex;flex-direction: column;z-index: 1;position: relative;background-color: white;}#sk-container-id-1 div.sk-parallel-item:first-child::after {align-self: flex-end;width: 50%;}#sk-container-id-1 div.sk-parallel-item:last-child::after {align-self: flex-start;width: 50%;}#sk-container-id-1 div.sk-parallel-item:only-child::after {width: 0;}#sk-container-id-1 div.sk-dashed-wrapped {border: 1px dashed gray;margin: 0 0.4em 0.5em 0.4em;box-sizing: border-box;padding-bottom: 0.4em;background-color: white;}#sk-container-id-1 div.sk-label label {font-family: monospace;font-weight: bold;display: inline-block;line-height: 1.2em;}#sk-container-id-1 div.sk-label-container {text-align: center;}#sk-container-id-1 div.sk-container {/* jupyter's `normalize.less` sets `[hidden] { display: none; }` but bootstrap.min.css set `[hidden] { display: none !important; }` so we also need the `!important` here to be able to override the default hidden behavior on the sphinx rendered scikit-learn.org. See: https://github.com/scikit-learn/scikit-learn/issues/21755 */display: inline-block !important;position: relative;}#sk-container-id-1 div.sk-text-repr-fallback {display: none;}</style><div id=\"sk-container-id-1\" class=\"sk-top-container\"><div class=\"sk-text-repr-fallback\"><pre>GridSearchCV(cv=4,\n",
       "             estimator=AdaBoostClassifier(algorithm=&#x27;SAMME&#x27;,\n",
       "                                          base_estimator=DecisionTreeClassifier(max_depth=10,\n",
       "                                                                                min_samples_split=10),\n",
       "                                          n_estimators=300),\n",
       "             param_grid={&#x27;algorithm&#x27;: [&#x27;SAMME&#x27;, &#x27;SAMME.R&#x27;],\n",
       "                         &#x27;n_estimators&#x27;: range(200, 501, 100)},\n",
       "             scoring=&#x27;neg_mean_squared_error&#x27;)</pre><b>In a Jupyter environment, please rerun this cell to show the HTML representation or trust the notebook. <br />On GitHub, the HTML representation is unable to render, please try loading this page with nbviewer.org.</b></div><div class=\"sk-container\" hidden><div class=\"sk-item sk-dashed-wrapped\"><div class=\"sk-label-container\"><div class=\"sk-label sk-toggleable\"><input class=\"sk-toggleable__control sk-hidden--visually\" id=\"sk-estimator-id-1\" type=\"checkbox\" ><label for=\"sk-estimator-id-1\" class=\"sk-toggleable__label sk-toggleable__label-arrow\">GridSearchCV</label><div class=\"sk-toggleable__content\"><pre>GridSearchCV(cv=4,\n",
       "             estimator=AdaBoostClassifier(algorithm=&#x27;SAMME&#x27;,\n",
       "                                          base_estimator=DecisionTreeClassifier(max_depth=10,\n",
       "                                                                                min_samples_split=10),\n",
       "                                          n_estimators=300),\n",
       "             param_grid={&#x27;algorithm&#x27;: [&#x27;SAMME&#x27;, &#x27;SAMME.R&#x27;],\n",
       "                         &#x27;n_estimators&#x27;: range(200, 501, 100)},\n",
       "             scoring=&#x27;neg_mean_squared_error&#x27;)</pre></div></div></div><div class=\"sk-parallel\"><div class=\"sk-parallel-item\"><div class=\"sk-item\"><div class=\"sk-label-container\"><div class=\"sk-label sk-toggleable\"><input class=\"sk-toggleable__control sk-hidden--visually\" id=\"sk-estimator-id-2\" type=\"checkbox\" ><label for=\"sk-estimator-id-2\" class=\"sk-toggleable__label sk-toggleable__label-arrow\">estimator: AdaBoostClassifier</label><div class=\"sk-toggleable__content\"><pre>AdaBoostClassifier(algorithm=&#x27;SAMME&#x27;,\n",
       "                   base_estimator=DecisionTreeClassifier(max_depth=10,\n",
       "                                                         min_samples_split=10),\n",
       "                   n_estimators=300)</pre></div></div></div><div class=\"sk-serial\"><div class=\"sk-item sk-dashed-wrapped\"><div class=\"sk-parallel\"><div class=\"sk-parallel-item\"><div class=\"sk-item\"><div class=\"sk-label-container\"><div class=\"sk-label sk-toggleable\"><input class=\"sk-toggleable__control sk-hidden--visually\" id=\"sk-estimator-id-3\" type=\"checkbox\" ><label for=\"sk-estimator-id-3\" class=\"sk-toggleable__label sk-toggleable__label-arrow\">base_estimator: DecisionTreeClassifier</label><div class=\"sk-toggleable__content\"><pre>DecisionTreeClassifier(max_depth=10, min_samples_split=10)</pre></div></div></div><div class=\"sk-serial\"><div class=\"sk-item\"><div class=\"sk-estimator sk-toggleable\"><input class=\"sk-toggleable__control sk-hidden--visually\" id=\"sk-estimator-id-4\" type=\"checkbox\" ><label for=\"sk-estimator-id-4\" class=\"sk-toggleable__label sk-toggleable__label-arrow\">DecisionTreeClassifier</label><div class=\"sk-toggleable__content\"><pre>DecisionTreeClassifier(max_depth=10, min_samples_split=10)</pre></div></div></div></div></div></div></div></div></div></div></div></div></div></div></div>"
      ],
      "text/plain": [
       "GridSearchCV(cv=4,\n",
       "             estimator=AdaBoostClassifier(algorithm='SAMME',\n",
       "                                          base_estimator=DecisionTreeClassifier(max_depth=10,\n",
       "                                                                                min_samples_split=10),\n",
       "                                          n_estimators=300),\n",
       "             param_grid={'algorithm': ['SAMME', 'SAMME.R'],\n",
       "                         'n_estimators': range(200, 501, 100)},\n",
       "             scoring='neg_mean_squared_error')"
      ]
     },
     "execution_count": 168,
     "metadata": {},
     "output_type": "execute_result"
    }
   ],
   "source": [
    "grid2=GridSearchCV(estimator=mod4,\n",
    "                   param_grid={'n_estimators':range(200,501,100),\n",
    "                    'algorithm':['SAMME','SAMME.R']},\n",
    "                   cv=4, scoring='neg_mean_squared_error')\n",
    "grid2.fit(te,tr)"
   ]
  },
  {
   "cell_type": "code",
   "execution_count": 169,
   "metadata": {},
   "outputs": [],
   "source": [
    "yytest=grid2.predict(test)\n",
    "\n",
    "\n",
    "passger=[]\n",
    "survived=[]\n",
    "for i in range(len(yytest)):\n",
    "    passger.append(892+i)\n",
    "    survived.append(yytest[i])\n",
    "per=pd.DataFrame(columns=['PassengerId','Survived'])\n",
    "per['PassengerId']=passger\n",
    "per['Survived']=survived\n",
    "per.to_csv(\"submit1.csv\")"
   ]
  }
 ],
 "metadata": {
  "kernelspec": {
   "display_name": "Python 3",
   "language": "python",
   "name": "python3"
  },
  "language_info": {
   "codemirror_mode": {
    "name": "ipython",
    "version": 3
   },
   "file_extension": ".py",
   "mimetype": "text/x-python",
   "name": "python",
   "nbconvert_exporter": "python",
   "pygments_lexer": "ipython3",
   "version": "3.10.10"
  },
  "orig_nbformat": 4
 },
 "nbformat": 4,
 "nbformat_minor": 2
}
